{
 "cells": [
  {
   "cell_type": "code",
   "execution_count": 13,
   "id": "47f58f16",
   "metadata": {},
   "outputs": [],
   "source": [
    "import numpy as np \n",
    "import pandas as pd\n",
    "import matplotlib.pyplot as plt \n",
    "import seaborn as sns\n",
    "from sklearn.preprocessing import StandardScaler, MinMaxScaler\n",
    "import warnings\n",
    "warnings.filterwarnings('ignore')"
   ]
  },
  {
   "cell_type": "code",
   "execution_count": 22,
   "id": "d983b052",
   "metadata": {},
   "outputs": [
    {
     "data": {
      "text/html": [
       "<div>\n",
       "<style scoped>\n",
       "    .dataframe tbody tr th:only-of-type {\n",
       "        vertical-align: middle;\n",
       "    }\n",
       "\n",
       "    .dataframe tbody tr th {\n",
       "        vertical-align: top;\n",
       "    }\n",
       "\n",
       "    .dataframe thead th {\n",
       "        text-align: right;\n",
       "    }\n",
       "</style>\n",
       "<table border=\"1\" class=\"dataframe\">\n",
       "  <thead>\n",
       "    <tr style=\"text-align: right;\">\n",
       "      <th></th>\n",
       "      <th>height</th>\n",
       "      <th>length</th>\n",
       "      <th>area</th>\n",
       "      <th>eccen</th>\n",
       "      <th>p_black</th>\n",
       "      <th>p_and</th>\n",
       "      <th>mean_tr</th>\n",
       "      <th>blackpix</th>\n",
       "      <th>blackand</th>\n",
       "      <th>wb_trans</th>\n",
       "      <th>class</th>\n",
       "    </tr>\n",
       "  </thead>\n",
       "  <tbody>\n",
       "    <tr>\n",
       "      <th>0</th>\n",
       "      <td>5</td>\n",
       "      <td>7</td>\n",
       "      <td>35</td>\n",
       "      <td>1.400</td>\n",
       "      <td>0.400</td>\n",
       "      <td>0.657</td>\n",
       "      <td>2.33</td>\n",
       "      <td>14</td>\n",
       "      <td>23</td>\n",
       "      <td>6</td>\n",
       "      <td>1</td>\n",
       "    </tr>\n",
       "    <tr>\n",
       "      <th>1</th>\n",
       "      <td>6</td>\n",
       "      <td>7</td>\n",
       "      <td>42</td>\n",
       "      <td>1.167</td>\n",
       "      <td>0.429</td>\n",
       "      <td>0.881</td>\n",
       "      <td>3.60</td>\n",
       "      <td>18</td>\n",
       "      <td>37</td>\n",
       "      <td>5</td>\n",
       "      <td>1</td>\n",
       "    </tr>\n",
       "    <tr>\n",
       "      <th>2</th>\n",
       "      <td>6</td>\n",
       "      <td>18</td>\n",
       "      <td>108</td>\n",
       "      <td>3.000</td>\n",
       "      <td>0.287</td>\n",
       "      <td>0.741</td>\n",
       "      <td>4.43</td>\n",
       "      <td>31</td>\n",
       "      <td>80</td>\n",
       "      <td>7</td>\n",
       "      <td>1</td>\n",
       "    </tr>\n",
       "    <tr>\n",
       "      <th>3</th>\n",
       "      <td>5</td>\n",
       "      <td>7</td>\n",
       "      <td>35</td>\n",
       "      <td>1.400</td>\n",
       "      <td>0.371</td>\n",
       "      <td>0.743</td>\n",
       "      <td>4.33</td>\n",
       "      <td>13</td>\n",
       "      <td>26</td>\n",
       "      <td>3</td>\n",
       "      <td>1</td>\n",
       "    </tr>\n",
       "    <tr>\n",
       "      <th>4</th>\n",
       "      <td>6</td>\n",
       "      <td>3</td>\n",
       "      <td>18</td>\n",
       "      <td>0.500</td>\n",
       "      <td>0.500</td>\n",
       "      <td>0.944</td>\n",
       "      <td>2.25</td>\n",
       "      <td>9</td>\n",
       "      <td>17</td>\n",
       "      <td>4</td>\n",
       "      <td>1</td>\n",
       "    </tr>\n",
       "  </tbody>\n",
       "</table>\n",
       "</div>"
      ],
      "text/plain": [
       "   height  length  area  eccen  p_black  p_and  mean_tr  blackpix  blackand  \\\n",
       "0       5       7    35  1.400    0.400  0.657     2.33        14        23   \n",
       "1       6       7    42  1.167    0.429  0.881     3.60        18        37   \n",
       "2       6      18   108  3.000    0.287  0.741     4.43        31        80   \n",
       "3       5       7    35  1.400    0.371  0.743     4.33        13        26   \n",
       "4       6       3    18  0.500    0.500  0.944     2.25         9        17   \n",
       "\n",
       "   wb_trans  class  \n",
       "0         6      1  \n",
       "1         5      1  \n",
       "2         7      1  \n",
       "3         3      1  \n",
       "4         4      1  "
      ]
     },
     "execution_count": 22,
     "metadata": {},
     "output_type": "execute_result"
    }
   ],
   "source": [
    "data=pd.read_csv('Group_10_data_cleaned.csv')\n",
    "data.head()"
   ]
  },
  {
   "cell_type": "code",
   "execution_count": 23,
   "id": "3f655669",
   "metadata": {},
   "outputs": [
    {
     "data": {
      "text/html": [
       "<div>\n",
       "<style scoped>\n",
       "    .dataframe tbody tr th:only-of-type {\n",
       "        vertical-align: middle;\n",
       "    }\n",
       "\n",
       "    .dataframe tbody tr th {\n",
       "        vertical-align: top;\n",
       "    }\n",
       "\n",
       "    .dataframe thead th {\n",
       "        text-align: right;\n",
       "    }\n",
       "</style>\n",
       "<table border=\"1\" class=\"dataframe\">\n",
       "  <thead>\n",
       "    <tr style=\"text-align: right;\">\n",
       "      <th></th>\n",
       "      <th>height</th>\n",
       "      <th>length</th>\n",
       "      <th>area</th>\n",
       "      <th>eccen</th>\n",
       "      <th>p_black</th>\n",
       "      <th>p_and</th>\n",
       "      <th>mean_tr</th>\n",
       "      <th>blackpix</th>\n",
       "      <th>blackand</th>\n",
       "      <th>wb_trans</th>\n",
       "    </tr>\n",
       "  </thead>\n",
       "  <tbody>\n",
       "    <tr>\n",
       "      <th>0</th>\n",
       "      <td>-0.288690</td>\n",
       "      <td>-0.719792</td>\n",
       "      <td>-0.239930</td>\n",
       "      <td>-0.402397</td>\n",
       "      <td>0.176423</td>\n",
       "      <td>-0.750401</td>\n",
       "      <td>-0.056307</td>\n",
       "      <td>-0.277063</td>\n",
       "      <td>-0.381702</td>\n",
       "      <td>-0.601716</td>\n",
       "    </tr>\n",
       "    <tr>\n",
       "      <th>1</th>\n",
       "      <td>-0.235945</td>\n",
       "      <td>-0.719792</td>\n",
       "      <td>-0.238487</td>\n",
       "      <td>-0.409987</td>\n",
       "      <td>0.339583</td>\n",
       "      <td>0.562261</td>\n",
       "      <td>-0.037921</td>\n",
       "      <td>-0.273914</td>\n",
       "      <td>-0.374260</td>\n",
       "      <td>-0.607693</td>\n",
       "    </tr>\n",
       "    <tr>\n",
       "      <th>2</th>\n",
       "      <td>-0.235945</td>\n",
       "      <td>-0.623899</td>\n",
       "      <td>-0.224875</td>\n",
       "      <td>-0.350282</td>\n",
       "      <td>-0.459335</td>\n",
       "      <td>-0.258153</td>\n",
       "      <td>-0.025904</td>\n",
       "      <td>-0.263680</td>\n",
       "      <td>-0.351404</td>\n",
       "      <td>-0.595738</td>\n",
       "    </tr>\n",
       "    <tr>\n",
       "      <th>3</th>\n",
       "      <td>-0.288690</td>\n",
       "      <td>-0.719792</td>\n",
       "      <td>-0.239930</td>\n",
       "      <td>-0.402397</td>\n",
       "      <td>0.013264</td>\n",
       "      <td>-0.246432</td>\n",
       "      <td>-0.027352</td>\n",
       "      <td>-0.277851</td>\n",
       "      <td>-0.380107</td>\n",
       "      <td>-0.619648</td>\n",
       "    </tr>\n",
       "    <tr>\n",
       "      <th>4</th>\n",
       "      <td>-0.235945</td>\n",
       "      <td>-0.754662</td>\n",
       "      <td>-0.243436</td>\n",
       "      <td>-0.431713</td>\n",
       "      <td>0.739041</td>\n",
       "      <td>0.931447</td>\n",
       "      <td>-0.057465</td>\n",
       "      <td>-0.281000</td>\n",
       "      <td>-0.384891</td>\n",
       "      <td>-0.613671</td>\n",
       "    </tr>\n",
       "  </tbody>\n",
       "</table>\n",
       "</div>"
      ],
      "text/plain": [
       "     height    length      area     eccen   p_black     p_and   mean_tr  \\\n",
       "0 -0.288690 -0.719792 -0.239930 -0.402397  0.176423 -0.750401 -0.056307   \n",
       "1 -0.235945 -0.719792 -0.238487 -0.409987  0.339583  0.562261 -0.037921   \n",
       "2 -0.235945 -0.623899 -0.224875 -0.350282 -0.459335 -0.258153 -0.025904   \n",
       "3 -0.288690 -0.719792 -0.239930 -0.402397  0.013264 -0.246432 -0.027352   \n",
       "4 -0.235945 -0.754662 -0.243436 -0.431713  0.739041  0.931447 -0.057465   \n",
       "\n",
       "   blackpix  blackand  wb_trans  \n",
       "0 -0.277063 -0.381702 -0.601716  \n",
       "1 -0.273914 -0.374260 -0.607693  \n",
       "2 -0.263680 -0.351404 -0.595738  \n",
       "3 -0.277851 -0.380107 -0.619648  \n",
       "4 -0.281000 -0.384891 -0.613671  "
      ]
     },
     "execution_count": 23,
     "metadata": {},
     "output_type": "execute_result"
    }
   ],
   "source": [
    "X = data.drop([\"class\"], axis = 1)\n",
    "\n",
    "y = data[\"class\"]\n",
    "\n",
    "col = X.columns\n",
    "col\n",
    "\n",
    "scaler = StandardScaler()\n",
    "\n",
    "for column in col:\n",
    "    scaler.fit(X[[column]])\n",
    "    X[column] = scaler.transform(X[[column]])\n",
    "X.head()"
   ]
  },
  {
   "cell_type": "code",
   "execution_count": 24,
   "id": "c5eabc78",
   "metadata": {},
   "outputs": [
    {
     "data": {
      "text/plain": [
       "height      0\n",
       "length      0\n",
       "area        0\n",
       "eccen       0\n",
       "p_black     0\n",
       "p_and       0\n",
       "mean_tr     0\n",
       "blackpix    0\n",
       "blackand    0\n",
       "wb_trans    0\n",
       "class       0\n",
       "dtype: int64"
      ]
     },
     "execution_count": 24,
     "metadata": {},
     "output_type": "execute_result"
    }
   ],
   "source": [
    "data.isna().sum()"
   ]
  },
  {
   "cell_type": "markdown",
   "id": "9932c935",
   "metadata": {},
   "source": [
    "# Lets perform linear and non linear dimenationality reductional techniques"
   ]
  },
  {
   "cell_type": "code",
   "execution_count": 25,
   "id": "2dffa8d9",
   "metadata": {},
   "outputs": [],
   "source": [
    "from sklearn.decomposition import PCA\n",
    "pca = PCA(n_components = 2)"
   ]
  },
  {
   "cell_type": "code",
   "execution_count": 26,
   "id": "2aa5fa07",
   "metadata": {},
   "outputs": [
    {
     "data": {
      "text/plain": [
       "PCA(n_components=2)"
      ]
     },
     "execution_count": 26,
     "metadata": {},
     "output_type": "execute_result"
    }
   ],
   "source": [
    "pca.fit(X)"
   ]
  },
  {
   "cell_type": "code",
   "execution_count": 27,
   "id": "c64b58c9",
   "metadata": {},
   "outputs": [],
   "source": [
    "pca_data =  pca.transform(X)"
   ]
  },
  {
   "cell_type": "code",
   "execution_count": 28,
   "id": "d6c5816b",
   "metadata": {},
   "outputs": [
    {
     "data": {
      "text/plain": [
       "array([[-0.88906106, -0.06063061],\n",
       "       [-1.12795258,  0.70211734],\n",
       "       [-0.84222911, -0.17185085],\n",
       "       ...,\n",
       "       [-0.3354833 , -0.0153382 ],\n",
       "       [-0.62202443, -0.30595171],\n",
       "       [-1.55133505,  2.76679415]])"
      ]
     },
     "execution_count": 28,
     "metadata": {},
     "output_type": "execute_result"
    }
   ],
   "source": [
    "pca_data"
   ]
  },
  {
   "cell_type": "code",
   "execution_count": 29,
   "id": "f29ca074",
   "metadata": {},
   "outputs": [
    {
     "data": {
      "text/plain": [
       "Text(0, 0.5, 'Second component')"
      ]
     },
     "execution_count": 29,
     "metadata": {},
     "output_type": "execute_result"
    },
    {
     "data": {
      "image/png": "[encoded data removed]",
      "text/plain": [
       "<Figure size 600x600 with 1 Axes>"
      ]
     },
     "metadata": {},
     "output_type": "display_data"
    }
   ],
   "source": [
    "plt.figure(figsize=(6,6))\n",
    "plt.scatter(pca_data[:,0],pca_data[:,1],c=y)\n",
    "plt.xlabel('First component')\n",
    "plt.ylabel('Second component')"
   ]
  },
  {
   "cell_type": "markdown",
   "id": "8ea4d997",
   "metadata": {},
   "source": [
    "# lets perform visualization using Non linear dimentionality models SOM"
   ]
  },
  {
   "cell_type": "code",
   "execution_count": 30,
   "id": "f8baf746",
   "metadata": {},
   "outputs": [],
   "source": [
    "from minisom import MiniSom"
   ]
  },
  {
   "cell_type": "code",
   "execution_count": 31,
   "id": "4fdc1533",
   "metadata": {},
   "outputs": [],
   "source": [
    "som = MiniSom( x = 10, y = 10, input_len = 10, sigma = 1.0, learning_rate = 0.5, neighborhood_function='gaussian', random_seed=0)"
   ]
  },
  {
   "cell_type": "code",
   "execution_count": 32,
   "id": "ab02e1a7",
   "metadata": {},
   "outputs": [],
   "source": [
    "scaled_data = X.to_numpy()\n",
    "scaled_data\n",
    "som.random_weights_init(scaled_data)"
   ]
  },
  {
   "cell_type": "code",
   "execution_count": 33,
   "id": "5329a4ae",
   "metadata": {},
   "outputs": [
    {
     "data": {
      "text/plain": [
       "array([[-0.28869038, -0.71979187, -0.23993019, ..., -0.27706348,\n",
       "        -0.38170191, -0.60171582],\n",
       "       [-0.23594451, -0.71979187, -0.23848657, ..., -0.27391441,\n",
       "        -0.37426037, -0.60769335],\n",
       "       [-0.23594451, -0.62389894, -0.22487533, ..., -0.26367994,\n",
       "        -0.35140423, -0.59573829],\n",
       "       ...,\n",
       "       [-0.23594451,  0.04735154, -0.12959666, ..., -0.15346256,\n",
       "        -0.11805897, -0.01591752],\n",
       "       [-0.18319864, -0.42339555, -0.18796   , ..., -0.24006193,\n",
       "        -0.2716735 , -0.36859201],\n",
       "       [-0.13045278, -0.7720971 , -0.24549842, ..., -0.28178708,\n",
       "        -0.38967498, -0.63160349]])"
      ]
     },
     "execution_count": 33,
     "metadata": {},
     "output_type": "execute_result"
    }
   ],
   "source": [
    "scaled_data"
   ]
  },
  {
   "cell_type": "code",
   "execution_count": 34,
   "id": "2d567115",
   "metadata": {},
   "outputs": [],
   "source": [
    "som.train_random(data = scaled_data, num_iteration = 100)"
   ]
  },
  {
   "cell_type": "code",
   "execution_count": 35,
   "id": "3f1b8d9b",
   "metadata": {},
   "outputs": [],
   "source": [
    "scaled_y = y.to_numpy()\n",
    "scaled_y = list(map(int, scaled_y))"
   ]
  },
  {
   "cell_type": "code",
   "execution_count": 36,
   "id": "36057332",
   "metadata": {},
   "outputs": [
    {
     "data": {
      "text/plain": [
       "array([1, 2, 3, 4, 5])"
      ]
     },
     "execution_count": 36,
     "metadata": {},
     "output_type": "execute_result"
    }
   ],
   "source": [
    "np.unique(scaled_y)"
   ]
  },
  {
   "cell_type": "code",
   "execution_count": 37,
   "id": "16592c25",
   "metadata": {},
   "outputs": [
    {
     "data": {
      "image/png": "[encoded data removed]",
      "text/plain": [
       "<Figure size 640x480 with 2 Axes>"
      ]
     },
     "metadata": {},
     "output_type": "display_data"
    }
   ],
   "source": [
    "# making a self organization map \n",
    "from pylab import bone, pcolor, colorbar, plot, show \n",
    "bone() \n",
    "pcolor(som.distance_map().T) \n",
    "colorbar() \n",
    "markers = [\"d\", \"v\", \"s\", \"*\", \"^\"] \n",
    "colors = ['pink', 'green', 'cyan', 'yellow', 'orange'] \n",
    "for i, x in enumerate(scaled_data):\n",
    "    W = som.winner(x) \n",
    "    plot(W[0] + 0.5,\n",
    "    W[1] + 0.5, markers[scaled_y[i]-1], markeredgecolor = colors [scaled_y[i]-1], markerfacecolor = 'None', markersize = 10,\n",
    "    markeredgewidth = 2) \n",
    "show()"
   ]
  },
  {
   "cell_type": "code",
   "execution_count": 38,
   "id": "da084c45",
   "metadata": {},
   "outputs": [],
   "source": [
    "import numpy as np\n",
    "from numpy.ma.core import ceil\n",
    "from scipy.spatial import distance #distance calculation\n",
    "from sklearn.preprocessing import MinMaxScaler #normalisation\n",
    "from sklearn.model_selection import train_test_split\n",
    "from sklearn.metrics import accuracy_score #scoring\n",
    "from sklearn.metrics import confusion_matrix\n",
    "import matplotlib.pyplot as plt\n",
    "from matplotlib import animation, colors"
   ]
  },
  {
   "cell_type": "code",
   "execution_count": 39,
   "id": "5adcb9c9",
   "metadata": {},
   "outputs": [],
   "source": [
    "X = data.drop([\"class\"], axis = 1)\n",
    "\n",
    "y = data[\"class\"]"
   ]
  },
  {
   "cell_type": "code",
   "execution_count": 40,
   "id": "09bc8044",
   "metadata": {},
   "outputs": [],
   "source": [
    "# train and test split\n",
    "\n",
    "train_x, test_x, train_y, test_y = train_test_split(X, y, test_size=0.2, random_state=42)\n",
    "# check the shapes"
   ]
  },
  {
   "cell_type": "code",
   "execution_count": 41,
   "id": "837ea99d",
   "metadata": {},
   "outputs": [],
   "source": [
    "def std_scaler(data):\n",
    "  scaler = StandardScaler()\n",
    "  scaled = scaler.fit_transform(data)\n",
    "  return scaled\n",
    "\n",
    "# Euclidean distance\n",
    "def e_distance(x,y):\n",
    "  return distance.euclidean(x,y)\n",
    "\n",
    "# Manhattan distance\n",
    "def m_distance(x,y):\n",
    "  return distance.cityblock(x,y)\n",
    "\n",
    "# Best Matching Unit search\n",
    "def winning_neuron(data, t, som, num_rows, num_cols):\n",
    "  winner = [0,0]\n",
    "  shortest_distance = np.sqrt(data.shape[1]) # initialise with max distance\n",
    "  input_data = data[t]\n",
    "  for row in range(num_rows):\n",
    "    for col in range(num_cols):\n",
    "      distance = e_distance(som[row][col], data[t])\n",
    "      if distance < shortest_distance: \n",
    "        shortest_distance = distance\n",
    "        winner = [row,col]\n",
    "  return winner\n",
    "# Learning rate and neighbourhood range calculation\n",
    "def decay(step, max_steps,max_learning_rate,max_m_dsitance):\n",
    "  coefficient = 1.0 - (np.float64(step)/max_steps)\n",
    "  learning_rate = coefficient*max_learning_rate\n",
    "  neighbourhood_range = ceil(coefficient * max_m_dsitance)\n",
    "  return learning_rate, neighbourhood_range"
   ]
  },
  {
   "cell_type": "code",
   "execution_count": 42,
   "id": "56541863",
   "metadata": {},
   "outputs": [],
   "source": [
    "# hyperparameters\n",
    "num_rows = 15\n",
    "num_cols = 15\n",
    "max_m_dsitance = 5\n",
    "max_learning_rate = 0.05\n",
    "max_steps = int(7.5*10e3)"
   ]
  },
  {
   "cell_type": "code",
   "execution_count": 43,
   "id": "b3e72b53",
   "metadata": {},
   "outputs": [
    {
     "data": {
      "text/html": [
       "<div>\n",
       "<style scoped>\n",
       "    .dataframe tbody tr th:only-of-type {\n",
       "        vertical-align: middle;\n",
       "    }\n",
       "\n",
       "    .dataframe tbody tr th {\n",
       "        vertical-align: top;\n",
       "    }\n",
       "\n",
       "    .dataframe thead th {\n",
       "        text-align: right;\n",
       "    }\n",
       "</style>\n",
       "<table border=\"1\" class=\"dataframe\">\n",
       "  <thead>\n",
       "    <tr style=\"text-align: right;\">\n",
       "      <th></th>\n",
       "      <th>height</th>\n",
       "      <th>length</th>\n",
       "      <th>area</th>\n",
       "      <th>eccen</th>\n",
       "      <th>p_black</th>\n",
       "      <th>p_and</th>\n",
       "      <th>mean_tr</th>\n",
       "      <th>blackpix</th>\n",
       "      <th>blackand</th>\n",
       "      <th>wb_trans</th>\n",
       "    </tr>\n",
       "  </thead>\n",
       "  <tbody>\n",
       "    <tr>\n",
       "      <th>5236</th>\n",
       "      <td>11</td>\n",
       "      <td>357</td>\n",
       "      <td>3927</td>\n",
       "      <td>32.455</td>\n",
       "      <td>0.215</td>\n",
       "      <td>0.823</td>\n",
       "      <td>1.55</td>\n",
       "      <td>845</td>\n",
       "      <td>3232</td>\n",
       "      <td>546</td>\n",
       "    </tr>\n",
       "    <tr>\n",
       "      <th>1034</th>\n",
       "      <td>12</td>\n",
       "      <td>58</td>\n",
       "      <td>696</td>\n",
       "      <td>4.833</td>\n",
       "      <td>0.343</td>\n",
       "      <td>0.803</td>\n",
       "      <td>3.85</td>\n",
       "      <td>239</td>\n",
       "      <td>559</td>\n",
       "      <td>62</td>\n",
       "    </tr>\n",
       "    <tr>\n",
       "      <th>4472</th>\n",
       "      <td>11</td>\n",
       "      <td>185</td>\n",
       "      <td>2035</td>\n",
       "      <td>16.818</td>\n",
       "      <td>0.487</td>\n",
       "      <td>0.883</td>\n",
       "      <td>4.50</td>\n",
       "      <td>991</td>\n",
       "      <td>1796</td>\n",
       "      <td>220</td>\n",
       "    </tr>\n",
       "    <tr>\n",
       "      <th>931</th>\n",
       "      <td>11</td>\n",
       "      <td>89</td>\n",
       "      <td>979</td>\n",
       "      <td>8.091</td>\n",
       "      <td>0.170</td>\n",
       "      <td>0.706</td>\n",
       "      <td>2.72</td>\n",
       "      <td>166</td>\n",
       "      <td>691</td>\n",
       "      <td>61</td>\n",
       "    </tr>\n",
       "    <tr>\n",
       "      <th>4998</th>\n",
       "      <td>9</td>\n",
       "      <td>151</td>\n",
       "      <td>1359</td>\n",
       "      <td>16.778</td>\n",
       "      <td>0.185</td>\n",
       "      <td>0.566</td>\n",
       "      <td>1.39</td>\n",
       "      <td>251</td>\n",
       "      <td>769</td>\n",
       "      <td>181</td>\n",
       "    </tr>\n",
       "  </tbody>\n",
       "</table>\n",
       "</div>"
      ],
      "text/plain": [
       "      height  length  area   eccen  p_black  p_and  mean_tr  blackpix  \\\n",
       "5236      11     357  3927  32.455    0.215  0.823     1.55       845   \n",
       "1034      12      58   696   4.833    0.343  0.803     3.85       239   \n",
       "4472      11     185  2035  16.818    0.487  0.883     4.50       991   \n",
       "931       11      89   979   8.091    0.170  0.706     2.72       166   \n",
       "4998       9     151  1359  16.778    0.185  0.566     1.39       251   \n",
       "\n",
       "      blackand  wb_trans  \n",
       "5236      3232       546  \n",
       "1034       559        62  \n",
       "4472      1796       220  \n",
       "931        691        61  \n",
       "4998       769       181  "
      ]
     },
     "execution_count": 43,
     "metadata": {},
     "output_type": "execute_result"
    }
   ],
   "source": [
    "train_x.head()"
   ]
  },
  {
   "cell_type": "code",
   "execution_count": 44,
   "id": "c01e275e",
   "metadata": {},
   "outputs": [],
   "source": [
    "scaler=StandardScaler().fit(train_x) # normalisation\n",
    "\n",
    "train_x_norm = scaler.transform(train_x)\n",
    "\n",
    "# initialising self-organising map\n"
   ]
  },
  {
   "cell_type": "code",
   "execution_count": 45,
   "id": "9feddd58",
   "metadata": {},
   "outputs": [
    {
     "name": "stdout",
     "output_type": "stream",
     "text": [
      "Iteration:  1000\n",
      "Iteration:  2000\n",
      "Iteration:  3000\n",
      "Iteration:  4000\n",
      "Iteration:  5000\n",
      "Iteration:  6000\n",
      "Iteration:  7000\n",
      "Iteration:  8000\n",
      "Iteration:  9000\n",
      "Iteration:  10000\n",
      "Iteration:  11000\n",
      "Iteration:  12000\n",
      "Iteration:  13000\n",
      "Iteration:  14000\n",
      "Iteration:  15000\n",
      "Iteration:  16000\n",
      "Iteration:  17000\n",
      "Iteration:  18000\n",
      "Iteration:  19000\n",
      "Iteration:  20000\n",
      "Iteration:  21000\n",
      "Iteration:  22000\n",
      "Iteration:  23000\n",
      "Iteration:  24000\n",
      "Iteration:  25000\n",
      "Iteration:  26000\n",
      "Iteration:  27000\n",
      "Iteration:  28000\n",
      "Iteration:  29000\n",
      "Iteration:  30000\n",
      "Iteration:  31000\n",
      "Iteration:  32000\n",
      "Iteration:  33000\n",
      "Iteration:  34000\n",
      "Iteration:  35000\n",
      "Iteration:  36000\n",
      "Iteration:  37000\n",
      "Iteration:  38000\n",
      "Iteration:  39000\n",
      "Iteration:  40000\n",
      "Iteration:  41000\n",
      "Iteration:  42000\n",
      "Iteration:  43000\n",
      "Iteration:  44000\n",
      "Iteration:  45000\n",
      "Iteration:  46000\n",
      "Iteration:  47000\n",
      "Iteration:  48000\n",
      "Iteration:  49000\n",
      "Iteration:  50000\n",
      "Iteration:  51000\n",
      "Iteration:  52000\n",
      "Iteration:  53000\n",
      "Iteration:  54000\n",
      "Iteration:  55000\n",
      "Iteration:  56000\n",
      "Iteration:  57000\n",
      "Iteration:  58000\n",
      "Iteration:  59000\n",
      "Iteration:  60000\n",
      "Iteration:  61000\n",
      "Iteration:  62000\n",
      "Iteration:  63000\n",
      "Iteration:  64000\n",
      "Iteration:  65000\n",
      "Iteration:  66000\n",
      "Iteration:  67000\n",
      "Iteration:  68000\n",
      "Iteration:  69000\n",
      "Iteration:  70000\n",
      "Iteration:  71000\n",
      "Iteration:  72000\n",
      "Iteration:  73000\n",
      "Iteration:  74000\n",
      "Iteration:  75000\n",
      "SOM training completed\n"
     ]
    }
   ],
   "source": [
    "num_dims = train_x_norm.shape[1] # numnber of dimensions in the input data\n",
    "np.random.seed(40)\n",
    "som = np.random.random_sample(size=(num_rows, num_cols, num_dims)) # map construction\n",
    "\n",
    "# start training iterations\n",
    "for step in range(max_steps):\n",
    "  if (step+1) % 1000 == 0:\n",
    "    print(\"Iteration: \", step+1) # print out the current iteration for every 1k\n",
    "  learning_rate, neighbourhood_range = decay(step, max_steps,max_learning_rate,max_m_dsitance)\n",
    "\n",
    "  t = np.random.randint(0,high=train_x_norm.shape[0]) # random index of traing data\n",
    "  winner = winning_neuron(train_x_norm, t, som, num_rows, num_cols)\n",
    "  for row in range(num_rows):\n",
    "    for col in range(num_cols):\n",
    "      if m_distance([row,col],winner) <= neighbourhood_range:\n",
    "        som[row][col] += learning_rate*(train_x_norm[t]-som[row][col]) #update neighbour's weight\n",
    "\n",
    "print(\"SOM training completed\")"
   ]
  },
  {
   "cell_type": "code",
   "execution_count": 47,
   "id": "24cba232",
   "metadata": {},
   "outputs": [
    {
     "data": {
      "text/plain": [
       "5236    1\n",
       "1034    1\n",
       "4472    1\n",
       "931     1\n",
       "4998    1\n",
       "Name: class, dtype: int64"
      ]
     },
     "execution_count": 47,
     "metadata": {},
     "output_type": "execute_result"
    }
   ],
   "source": [
    "train_y.head()"
   ]
  },
  {
   "cell_type": "code",
   "execution_count": 54,
   "id": "6375831a",
   "metadata": {},
   "outputs": [
    {
     "name": "stdout",
     "output_type": "stream",
     "text": [
      "sample data:  1000\n",
      "sample data:  2000\n",
      "sample data:  3000\n",
      "sample data:  4000\n"
     ]
    }
   ],
   "source": [
    "# collecting labels\n",
    "\n",
    "label_data = train_y.to_numpy()\n",
    "map = np.empty(shape=(num_rows, num_cols), dtype=object)\n",
    "\n",
    "for row in range(num_rows):\n",
    "    for col in range(num_cols):\n",
    "        map[row][col] = [] # empty list to store the label\n",
    "\n",
    "for t in range(train_x_norm.shape[0]):\n",
    "    if (t+1) % 1000 == 0:\n",
    "        print(\"sample data: \", t+1)\n",
    "    winner = winning_neuron(train_x_norm, t, som, num_rows, num_cols)\n",
    "    map[winner[0]][winner[1]].append(label_data[t]) # label of winning neuron"
   ]
  },
  {
   "cell_type": "code",
   "execution_count": 55,
   "id": "e0271a3d",
   "metadata": {},
   "outputs": [
    {
     "data": {
      "image/png": "[encoded data removed]",
      "text/plain": [
       "<Figure size 640x480 with 2 Axes>"
      ]
     },
     "metadata": {},
     "output_type": "display_data"
    }
   ],
   "source": [
    "# construct label map\n",
    "label_map = np.zeros(shape=(num_rows, num_cols),dtype=np.int64)\n",
    "for row in range(num_rows):\n",
    "    for col in range(num_cols):\n",
    "        label_list = map[row][col]\n",
    "        if len(label_list)==0:\n",
    "            label = 2\n",
    "        else:\n",
    "            label = max(label_list, key=label_list.count)\n",
    "            label_map[row][col] = label\n",
    "title = ('Iteration ' + str(max_steps))\n",
    "cmap = colors.ListedColormap(['tab:green', 'tab:red', 'tab:orange'])\n",
    "plt.imshow(label_map, cmap=cmap)\n",
    "plt.colorbar()\n",
    "plt.title(title)\n",
    "plt.show()"
   ]
  },
  {
   "cell_type": "code",
   "execution_count": null,
   "id": "7e1134da",
   "metadata": {},
   "outputs": [],
   "source": []
  }
 ],
 "metadata": {
  "kernelspec": {
   "display_name": "Python 3 (ipykernel)",
   "language": "python",
   "name": "python3"
  },
  "language_info": {
   "codemirror_mode": {
    "name": "ipython",
    "version": 3
   },
   "file_extension": ".py",
   "mimetype": "text/x-python",
   "name": "python",
   "nbconvert_exporter": "python",
   "pygments_lexer": "ipython3",
   "version": "3.9.13"
  }
 },
 "nbformat": 4,
 "nbformat_minor": 5
}
